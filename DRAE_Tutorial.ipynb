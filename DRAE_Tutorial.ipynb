{
 "cells": [
  {
   "cell_type": "code",
   "execution_count": null,
   "id": "wooden-norway",
   "metadata": {},
   "outputs": [
    {
     "name": "stdout",
     "output_type": "stream",
     "text": [
      " * Serving Flask app \"__main__\" (lazy loading)\n",
      " * Environment: production\n",
      "   WARNING: This is a development server. Do not use it in a production deployment.\n",
      "   Use a production WSGI server instead.\n",
      " * Debug mode: off\n"
     ]
    },
    {
     "name": "stderr",
     "output_type": "stream",
     "text": [
      " * Running on http://127.0.0.1:8080/ (Press CTRL+C to quit)\n"
     ]
    }
   ],
   "source": [
    "# -*- coding: utf-8 -*-\n",
    "\"\"\"\n",
    "Created on Thu Jan 28 12:21:04 2021\n",
    "\n",
    "@author: @BrutalSphere\n",
    "@contact: e-mail= frantomasgarciaruiz@gmail.com/ftgarrui@inf.upv.es, github = BrutalSphere\n",
    "\"\"\"\n",
    "from flask import Flask, jsonify, abort\n",
    "from RAE import DRAE as dicc\n",
    "import json # In the case if we want to use obtain the ouput in JSON format\n",
    "app = Flask(__name__)\n",
    "\n",
    "json = {}\n",
    "\n",
    "@app.route(\"/exacta/<palabra>\", methods=['GET'])\n",
    "def getExactTerm(palabra):\n",
    "     \n",
    "    res = None\n",
    "    if palabra not in json:\n",
    "        res = dicc.exact(palabra).allIn()\n",
    "        if res is None:\n",
    "            abort(404, 'Word Not Found')\n",
    "        else:\n",
    "            json[palabra] = res\n",
    "    return jsonify({palabra:json[palabra]})\n",
    "\n",
    "@app.route(\"/empieza_por/<palabra>\", methods=['GET'])\n",
    "def startsWith(palabra):\n",
    "     \n",
    "    term = dicc.starts(palabra)\n",
    "    if term is None:\n",
    "        abort(404, 'No Word Starts With '+ palabra)\n",
    "    res = term.allIns()\n",
    "    json.update(res)\n",
    "    return jsonify(res)\n",
    "\n",
    "@app.route(\"/termina_en/<palabra>\", methods=['GET'])\n",
    "def endsWith(palabra):\n",
    "     \n",
    "    term = dicc.ends(palabra)\n",
    "    if term is None:\n",
    "        abort(404, 'No Word Ends With '+ palabra)\n",
    "    res = term.allIns()\n",
    "    json.update(res)\n",
    "    return jsonify(res)\n",
    "\n",
    "@app.route(\"/contiene/<palabra>\", methods=['GET'])\n",
    "def contains(palabra):\n",
    "     \n",
    "    term = dicc.contains(palabra)\n",
    "    if term is None:\n",
    "        abort(404, 'No Word Contains '+ palabra)\n",
    "    res = term.allIns()\n",
    "    json.update(res)\n",
    "    return jsonify(res)\n",
    "\n",
    "@app.route(\"/anagrama/<palabra>\", methods=['GET'])\n",
    "def anagram(palabra):\n",
    "     \n",
    "    term = dicc.anagram(palabra)\n",
    "    if term is None:\n",
    "        abort(404, 'No Word Is An Anagram Of '+ palabra)\n",
    "    res = term.allIn()\n",
    "    json.update(res)\n",
    "    return jsonify(res)\n",
    "app.run(port =8080)"
   ]
  },
  {
   "cell_type": "markdown",
   "id": "hungry-cable",
   "metadata": {},
   "source": [
    "Examples to illustrate how to parse information from DRAE API"
   ]
  },
  {
   "cell_type": "code",
   "execution_count": null,
   "id": "framed-congress",
   "metadata": {},
   "outputs": [],
   "source": [
    "'''\n",
    "Extract the information about a given word using getExactTerm for dummies\n",
    "'''\n",
    "word = 'patata'\n",
    "\n",
    "### You can also access through browser the url htt://127.0.0.1:8080/exacta/palabra\n",
    "res = rq.get(r'htt://127.0.0.1:8080/exacta/'+word)\n",
    "print_json(res)"
   ]
  },
  {
   "cell_type": "code",
   "execution_count": null,
   "id": "polish-weapon",
   "metadata": {},
   "outputs": [],
   "source": [
    "'''\n",
    "Extract the information about a given prefix using startsWith for dummies\n",
    "'''\n",
    "word = 'pre'\n",
    "### You can also access through browser the url htt://127.0.0.1:8080/empieza_por/palabra\n",
    "res = rq.get(r'htt://127.0.0.1:8080/empieza_por/'+word)\n",
    "print_json(res)"
   ]
  },
  {
   "cell_type": "code",
   "execution_count": null,
   "id": "departmental-senegal",
   "metadata": {},
   "outputs": [],
   "source": [
    "'''\n",
    "Extract the information about a given sufix using endsWith for dummies\n",
    "'''\n",
    "word = 'ón'\n",
    "### You can also access through browser the url htt://127.0.0.1:8080/termina_en/ón\n",
    "res = rq.get(r'htt://127.0.0.1:8080/termina_en/'+word)\n",
    "print_json(res)"
   ]
  },
  {
   "cell_type": "code",
   "execution_count": null,
   "id": "ruled-institution",
   "metadata": {},
   "outputs": [],
   "source": [
    "'''\n",
    "Extract the information about words that contains a given group of characters using contains for dummies\n",
    "'''\n",
    "word = sta\n",
    "### You can also access through browser the url htt://127.0.0.1:8080/contiene/sta\n",
    "res = rq.get(r'htt://127.0.0.1:8080/contiene/'+word)\n",
    "print_json(res)"
   ]
  },
  {
   "cell_type": "code",
   "execution_count": null,
   "id": "connected-pierre",
   "metadata": {},
   "outputs": [],
   "source": [
    "'''\n",
    "Extract the information about anagrams from a given word using anagram for dummies\n",
    "'''\n",
    "word = 'frase'\n",
    "### You can also access through browser the url htt://127.0.0.1:8080/anagrama/frase\n",
    "res = rq.get(r'htt://127.0.0.1:8080/anagrama/'+word)\n",
    "print_json(res)"
   ]
  },
  {
   "cell_type": "code",
   "execution_count": null,
   "id": "medieval-thong",
   "metadata": {},
   "outputs": [],
   "source": [
    "'''\n",
    "\n",
    "'''"
   ]
  }
 ],
 "metadata": {
  "kernelspec": {
   "display_name": "Python 3",
   "language": "python",
   "name": "python3"
  },
  "language_info": {
   "codemirror_mode": {
    "name": "ipython",
    "version": 3
   },
   "file_extension": ".py",
   "mimetype": "text/x-python",
   "name": "python",
   "nbconvert_exporter": "python",
   "pygments_lexer": "ipython3",
   "version": "3.7.4"
  }
 },
 "nbformat": 4,
 "nbformat_minor": 5
}
